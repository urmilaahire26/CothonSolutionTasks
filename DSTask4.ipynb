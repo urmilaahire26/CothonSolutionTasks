{
  "nbformat": 4,
  "nbformat_minor": 0,
  "metadata": {
    "colab": {
      "provenance": [],
      "authorship_tag": "ABX9TyOWl9r/HdUr1BemOO3As9uu",
      "include_colab_link": true
    },
    "kernelspec": {
      "name": "python3",
      "display_name": "Python 3"
    },
    "language_info": {
      "name": "python"
    }
  },
  "cells": [
    {
      "cell_type": "markdown",
      "metadata": {
        "id": "view-in-github",
        "colab_type": "text"
      },
      "source": [
        "<a href=\"https://colab.research.google.com/github/urmilaahire26/CothonSolutionTasks/blob/main/DSTask4.ipynb\" target=\"_parent\"><img src=\"https://colab.research.google.com/assets/colab-badge.svg\" alt=\"Open In Colab\"/></a>"
      ]
    },
    {
      "cell_type": "code",
      "execution_count": null,
      "metadata": {
        "colab": {
          "base_uri": "https://localhost:8080/"
        },
        "id": "A9dX4mFvUmgA",
        "outputId": "9b80ba72-a719-449a-b163-24ab49431cdd"
      },
      "outputs": [
        {
          "output_type": "stream",
          "name": "stdout",
          "text": [
            "  start_date   end_date\n",
            "0 2022-01-31 2022-03-16\n",
            "1 2022-12-30 2023-12-25\n",
            "2 2021-05-10 2022-03-23\n",
            "3 2022-07-18 2022-12-10\n",
            "4 2022-02-04 2022-12-28\n",
            "  subscription_status  monthly_usage  total_sessions  churn  \\\n",
            "0            inactive            247               9      0   \n",
            "1            inactive            390              19      1   \n",
            "2              active            445              47      0   \n",
            "3            inactive            396              14      1   \n",
            "4              active            492              38      0   \n",
            "\n",
            "   subscription_length  is_active  average_usage  \n",
            "0                   44          0      24.700000  \n",
            "1                  360          0      19.500000  \n",
            "2                  317          1       9.270833  \n",
            "3                  145          0      26.400000  \n",
            "4                  327          1      12.615385  \n",
            "  subscription_status  monthly_usage  total_sessions  churn  \\\n",
            "0            inactive            247               9      0   \n",
            "1            inactive            390              19      1   \n",
            "2              active            445              47      0   \n",
            "3            inactive            396              14      1   \n",
            "4              active            492              38      0   \n",
            "\n",
            "   subscription_length  is_active  average_usage  \n",
            "0                   44          0      24.700000  \n",
            "1                  360          0      19.500000  \n",
            "2                  317          1       9.270833  \n",
            "3                  145          0      26.400000  \n",
            "4                  327          1      12.615385  \n"
          ]
        }
      ],
      "source": [
        "import pandas as pd\n",
        "import numpy as np\n",
        "\n",
        "# Set a random seed for reproducibility\n",
        "np.random.seed(42)\n",
        "\n",
        "# Create a synthetic dataset with 1000 samples\n",
        "n_samples = 1000\n",
        "\n",
        "# Generate random data\n",
        "data = {\n",
        "    'user_id': np.arange(1, n_samples + 1),\n",
        "    'start_date': pd.to_datetime(np.random.choice(pd.date_range('2019-01-01', '2023-01-01', freq='D'), size=n_samples)),\n",
        "    'subscription_status': np.random.choice(['active', 'inactive'], size=n_samples, p=[0.7, 0.3]),\n",
        "    'monthly_usage': np.random.randint(10, 500, size=n_samples),  # Monthly usage in minutes\n",
        "    'total_sessions': np.random.randint(1, 50, size=n_samples),  # Number of sessions\n",
        "    'churn': np.random.choice([0, 1], size=n_samples, p=[0.7, 0.3]),  # 0: not churned, 1: churned\n",
        "}\n",
        "\n",
        "# Create DataFrame\n",
        "df = pd.DataFrame(data)\n",
        "\n",
        "# Ensure 'start_date' is a datetime type\n",
        "df['start_date'] = pd.to_datetime(df['start_date'])\n",
        "\n",
        "# Fixing 'end_date' by adding random number of days to 'start_date' to simulate end date\n",
        "df['end_date'] = pd.to_datetime(df['start_date'] + pd.to_timedelta(np.random.randint(1, 365, size=n_samples), unit='D'))\n",
        "\n",
        "# Check the first few rows to ensure 'start_date' and 'end_date' are created correctly\n",
        "print(df[['start_date', 'end_date']].head())\n",
        "\n",
        "# Feature engineering: Calculate subscription length\n",
        "df['subscription_length'] = (df['end_date'] - df['start_date']).dt.days\n",
        "\n",
        "# Example: 'is_active' feature from 'subscription_status'\n",
        "df['is_active'] = df['subscription_status'].apply(lambda x: 1 if x == 'active' else 0)\n",
        "\n",
        "# Calculate 'average_usage' based on 'monthly_usage' and 'total_sessions'\n",
        "df['average_usage'] = df['monthly_usage'] / (df['total_sessions'] + 1)\n",
        "\n",
        "# Drop unnecessary columns (we'll keep the columns we need for prediction)\n",
        "df = df.drop(columns=['user_id', 'start_date', 'end_date'])\n",
        "\n",
        "# Save to CSV in Colab environment\n",
        "df.to_csv('/content/synthetic_churn_data.csv', index=False)\n",
        "\n",
        "# Display the first few rows of the DataFrame\n",
        "print(df.head())\n",
        "\n",
        "# Now, load the dataset that was just saved\n",
        "df = pd.read_csv('/content/synthetic_churn_data.csv')\n",
        "\n",
        "# Check the data\n",
        "print(df.head())\n"
      ]
    }
  ]
}